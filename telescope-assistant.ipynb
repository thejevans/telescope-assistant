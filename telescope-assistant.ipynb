{
 "cells": [
  {
   "cell_type": "code",
   "execution_count": null,
   "metadata": {
    "collapsed": true,
    "deletable": true,
    "editable": true
   },
   "outputs": [],
   "source": [
    "# -*- coding: utf-8 -*-\n",
    "\"\"\"\n",
    "Created on Thu Apr 13 18:12:35 2017\n",
    "\n",
    "@author: Jordan\n",
    "\"\"\"\n",
    "\n",
    "import numpy as np\n",
    "import matplotlib.pyplot as plt\n",
    "import astropy.units as u\n",
    "from astropy.time import Time\n",
    "from astropy.coordinates import SkyCoord, EarthLocation, AltAz\n",
    "import time\n",
    "import serial\n",
    "from astropy.coordinates.name_resolve import NameResolveError\n",
    "from datetime import datetime\n",
    "\n",
    "ts = time.time()\n",
    "lat = 41.3 #assuming south is negative\n",
    "lon = -76.9378 #west is negative\n",
    "height = 21 \n",
    "#utcoffset = -4*u.hour #EDT #get EDT from lat, lon\n",
    "utcoffset = (datetime.fromtimestamp(ts)-datetime.utcfromtimestamp(ts)).total_seconds()*u.s\n",
    "\n",
    "def find_star(star_name,lat,lon,height,utcoffset):\n",
    "    star = SkyCoord.from_name(star_name)\n",
    "    observatory = EarthLocation(lat*u.deg, lon*u.deg,height=height*u.m)\n",
    "    t = time.strftime(\"%Y-%m-%d %H:%M:%S\")\n",
    "    t = Time(str(t)) - utcoffset\n",
    "    star_altaz = star.transform_to(AltAz(obstime=t,location=observatory))\n",
    "    alt = star_altaz.alt.deg\n",
    "    az = star_altaz.az.deg\n",
    "    return alt,az\n",
    "\n",
    "\n",
    "\n",
    "#Start the serial port to communicate with arduino\n",
    "data = serial.Serial('com10',9600, timeout=0)\n",
    "\n",
    " \n",
    "#now we made an infinite while loop so the serial connection is maintained and we can keep communicating with arduino\n",
    "while (1==1):\n",
    "    star_name = str(raw_input(\"Enter object designation: \")) #Prompt the user for the angle\n",
    "    try: \n",
    "        alt,az = find_star(star_name,lat,lon,height,utcoffset)\n",
    "    except NameResolveError:\n",
    "        print \"Name not found. Try another.\"\n",
    "        continue\n",
    "    \n",
    "    if alt > 0:\n",
    "        az += 90\n",
    "        if az > 360:\n",
    "            az -= 360\n",
    "            if alt > 180:\n",
    "               az -= 180\n",
    "               alt = 180-alt\n",
    "        print alt,az\n",
    "        alt = str(alt)+\"t,\"\n",
    "        az = str(az)+\"p,\"\n",
    "        data.write(alt+az) #code and send the angle to the Arduino through serial port160\n",
    "    else:\n",
    "        print \"Object is below the horizon! Try another.\"\n"
   ]
  }
 ],
 "metadata": {
  "kernelspec": {
   "display_name": "Python 2",
   "language": "python",
   "name": "python2"
  },
  "language_info": {
   "codemirror_mode": {
    "name": "ipython",
    "version": 2
   },
   "file_extension": ".py",
   "mimetype": "text/x-python",
   "name": "python",
   "nbconvert_exporter": "python",
   "pygments_lexer": "ipython2",
   "version": "2.7.12+"
  }
 },
 "nbformat": 4,
 "nbformat_minor": 2
}
